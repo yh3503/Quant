{
 "worksheets": [
  {
   "cells": [
    {
     "cell_type": "code",
     "execution_count": null,
     "metadata": {},
     "outputs": [],
     "input": [
      "import csv\n",
      "\n",
      "cik_ticker_csv_filename = '/Users/tiborkiss/devel/workspace/stocks/edgar/cik_ticker.csv'\n",
      "\n",
      "cik_to_ticker_csv = csv.DictReader(open(cik_ticker_csv_filename, 'r'), delimiter='|')\n",
      "\n",
      "#for i, row in enumerate(cik_to_ticker_csv):\n",
      "#    print i, row\n",
      "#    print row['Ticker'], row['SIC']\n",
      "#    if i > 10:\n",
      "#        break"
     ],
     "language": "python",
     "prompt_number": 7
    },
    {
     "cell_type": "code",
     "execution_count": null,
     "metadata": {},
     "outputs": [],
     "input": [
      "import psycopg2\n",
      "import pandas as pd\n",
      "\n",
      "db_connection = psycopg2.connect(database='huba', host='192.168.211.31', user='tiborkiss', password='dbSh1t')\n",
      "db_cursor = db_connection.cursor()\n",
      "\n",
      "def load_edgar_master_to_db():\n",
      "    base_path = '/Users/tiborkiss/devel/workspace/stocks/edgar/full-index'\n",
      "    for year in range(2008, 2016):\n",
      "        for qtr in ('QTR1', 'QTR2', 'QTR3', 'QTR4'):\n",
      "            filename = base_path + '/%s/%s/master-converted.csv.gz' % (year, qtr)\n",
      "        \n",
      "            print 'Processing: ', filename\n",
      "        \n",
      "            input_data = pd.read_csv(filename, delimiter='|')\n",
      "        \n",
      "            for _, row in input_data.iterrows():\n",
      "                sql_template = \"INSERT INTO sec_filings(date_filed, ticker, cik, form_type) VALUES ('{0}', (SELECT ticker FROM cik_to_ticker WHERE cik='{1}'), '{1}', '{2}')\"\n",
      "                sql_query = sql_template.format(row['Date Filed'], row['CIK'], row['Form Type'])\n",
      "                try:\n",
      "                    db_cursor.execute(sql_query)\n",
      "                except psycopg2.IntegrityError:\n",
      "                    db_cursor.execute('ROLLBACK')\n",
      "                else:\n",
      "                    db_cursor.execute('COMMIT')"
     ],
     "language": "python",
     "prompt_number": 10
    },
    {
     "cell_type": "code",
     "execution_count": null,
     "metadata": {},
     "outputs": [
      {
       "output_type": "pyout",
       "prompt_number": 10,
       "text": [
        "('0001413329', 'Philip Morris International Inc. ')"
       ],
       "metadata": {}
      }
     ],
     "input": [
      "from bs4 import BeautifulSoup\n",
      "import re\n",
      "import urllib2\n",
      "\n",
      "def get_cik_and_company_name_for_ticker(ticker):\n",
      "    page = urllib2.urlopen('http://www.sec.gov/cgi-bin/browse-edgar?CIK=%s&owner=exclude&action=getcompany&Find=Search' % ticker)\n",
      "\n",
      "    soup = BeautifulSoup(page.read(), 'lxml')\n",
      "    companyNameSpan = soup.find('span', {'class': 'companyName'})\n",
      "    #print companyNameSpan\n",
      "    h1 = soup.find('h1') \n",
      "    if h1 is not None:\n",
      "        if str(h1).find('No matching Ticker Symbol') != -1:\n",
      "            return None, None\n",
      "    \n",
      "    cik = re.findall(r'CIK=(\\d*)\\&', str(companyNameSpan), re.IGNORECASE)\n",
      "    companyName = re.findall(r'<span class=\\\"companyName\\\">(.*)<acronym', str(companyNameSpan), re.IGNORECASE)\n",
      "    #print soup.find(regex=re.compile(r'CIK=(\\d*)\\&', re.IGNORECASE))\n",
      "    \n",
      "    #print cik, companyName\n",
      "    return cik[0], companyName[0]\n",
      "\n",
      "get_cik_and_company_name_for_ticker('PM')"
     ],
     "language": "python",
     "prompt_number": 10
    },
    {
     "cell_type": "code",
     "execution_count": null,
     "metadata": {},
     "outputs": [],
     "input": [
      "def get_huba_all_symbols():\n",
      "    base_path = '/Users/tiborkiss/devel/workspace/stocks/edgar/'\n",
      "    filename = '%s/huba-all-symbols.txt' % base_path\n",
      "    symbols = []\n",
      "    \n",
      "    with open(filename, 'r') as f:\n",
      "        for row in f:\n",
      "            symbols.append(row.rstrip())\n",
      "    return symbols"
     ],
     "language": "python",
     "prompt_number": 13
    },
    {
     "cell_type": "code",
     "execution_count": null,
     "metadata": {},
     "outputs": [],
     "input": [
      "import sys\n",
      "\n",
      "def load_missing_cik_to_ticker():\n",
      "    all_symbols = get_huba_all_symbols()\n",
      "    \n",
      "    for symbol in all_symbols:\n",
      "        db_cursor.execute(\"SELECT count(1) FROM cik_to_ticker WHERE ticker=%s\", (symbol,))\n",
      "        count = db_cursor.fetchone()\n",
      "        \n",
      "        #print symbol, count\n",
      "        if int(count[0]) == 0:\n",
      "            cik, company_name = get_cik_and_company_name_for_ticker(symbol)\n",
      "            print 'resolved missing: %s -> %s' % (symbol, cik)\n",
      "            sys.stdout.flush() \n",
      "            \n",
      "            if cik is not None:\n",
      "                db_cursor.execute(\"INSERT INTO cik_to_ticker (cik, ticker, company_name) VALUES (%s, %s, %s)\", (cik, symbol, company_name))\n",
      "        \n",
      "\n",
      "load_missing_cik_to_ticker()"
     ],
     "language": "python",
     "prompt_number": 23
    },
    {
     "cell_type": "code",
     "execution_count": null,
     "metadata": {},
     "outputs": [],
     "input": [
      "db_cursor.execute(\"ABORT;\")"
     ],
     "language": "python",
     "prompt_number": 24
    },
    {
     "cell_type": "code",
     "execution_count": null,
     "metadata": {},
     "outputs": [],
     "input": [
      ""
     ],
     "language": "python"
    }
   ]
  }
 ],
 "cells": [],
 "metadata": {},
 "nbformat": 3,
 "nbformat_minor": 0
}